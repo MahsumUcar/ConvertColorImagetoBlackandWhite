{
 "cells": [
  {
   "cell_type": "code",
   "execution_count": 8,
   "id": "2a68ef02",
   "metadata": {},
   "outputs": [],
   "source": [
    "from PIL import Image, ImageEnhance\n",
    "\n",
    "img = Image.open(\"catImage.jpg\")\n",
    "img_data = img.getdata()\n",
    "\n",
    "lst=[]\n",
    "for i in img_data:\n",
    "\n",
    "    # lst.append(i[0]*0.299+i[1]*0.587+i[2]*0.114) ### Rec. 609-7 weights\n",
    "    lst.append(i[0]*0.2125+i[1]*0.7174+i[2]*0.0721) ### Rec. 709-6 weights\n",
    "\n",
    "new_img = Image.new(\"L\", img.size)\n",
    "new_img.putdata(lst)\n",
    "\n",
    "new_img.show()"
   ]
  }
 ],
 "metadata": {
  "kernelspec": {
   "display_name": "Python 3 (ipykernel)",
   "language": "python",
   "name": "python3"
  },
  "language_info": {
   "codemirror_mode": {
    "name": "ipython",
    "version": 3
   },
   "file_extension": ".py",
   "mimetype": "text/x-python",
   "name": "python",
   "nbconvert_exporter": "python",
   "pygments_lexer": "ipython3",
   "version": "3.9.13"
  }
 },
 "nbformat": 4,
 "nbformat_minor": 5
}
